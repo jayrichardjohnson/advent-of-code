{
 "cells": [
  {
   "cell_type": "markdown",
   "metadata": {},
   "source": [
    "# Day 1: SONAR Sweep\n",
    "https://adventofcode.com/2021/day/1"
   ]
  },
  {
   "cell_type": "markdown",
   "metadata": {},
   "source": [
    "### Puzzle 1\n",
    "Given a list of SONAR bathymetry measurements, where each subsequent number is the depth at a point further from the submarine, how many times does the depth increase from one point to the next. 'day1_puz1.txt' has a list of depths copied from project file on adventofcode.com"
   ]
  },
  {
   "cell_type": "code",
   "execution_count": 49,
   "metadata": {},
   "outputs": [],
   "source": [
    "# read in the data and convert to a numpy array\n",
    "import numpy as np\n",
    "with open('data/day_1.txt') as f:\n",
    "    btyfile = f.read().splitlines()\n",
    "depths = np.asarray(btyfile, dtype=int)\n",
    "\n",
    "# define counting function\n",
    "count_increase = lambda z : (np.diff(z) > 0).sum()"
   ]
  },
  {
   "cell_type": "code",
   "execution_count": 50,
   "metadata": {},
   "outputs": [
    {
     "name": "stdout",
     "output_type": "stream",
     "text": [
      "Depth increased 1521 times.\n"
     ]
    }
   ],
   "source": [
    "# get difference between adjacent values\n",
    "dz = np.diff(depths)\n",
    "# count how many are positive (increasing in depth)\n",
    "# n_depth_increase = (dz > 0).sum()\n",
    "count_increase(dz)\n",
    "print(f\"Depth increased {n_depth_increase} times.\")"
   ]
  },
  {
   "cell_type": "markdown",
   "metadata": {},
   "source": [
    "### Puzzle 2\n",
    "Using differences was too noisy, try comparing a 3-element sliding sum of values. "
   ]
  },
  {
   "cell_type": "code",
   "execution_count": 51,
   "metadata": {},
   "outputs": [
    {
     "name": "stdout",
     "output_type": "stream",
     "text": [
      "Depth increased 1543 times.\n"
     ]
    }
   ],
   "source": [
    "# convolve the depths with a 3-element boxcar window\n",
    "# 'valid' mode only returns values where the both windows were complete\n",
    "z_smooth = np.convolve(depths, np.ones(3), mode='valid')\n",
    "n_depth_increase_smooth = count_increase(z_smooth)\n",
    "# dz_smooth = np.diff(z_smooth)\n",
    "# # count number of positives\n",
    "# n_depth_increase_smooth = (dz_smooth > 0).sum()\n",
    "\n",
    "print(f\"Depth increased {n_depth_increase_smooth} times.\")\n",
    "if n_depth_increase_smooth == dz_smooth.size:\n",
    "    print(f\"Depth is always increasing\")"
   ]
  },
  {
   "cell_type": "code",
   "execution_count": 47,
   "metadata": {},
   "outputs": [
    {
     "data": {
      "image/png": "[encoded data removed]",
      "text/plain": [
       "<matplotlib.figure.Figure at 0x7fae1de33320>"
      ]
     },
     "metadata": {},
     "output_type": "display_data"
    }
   ],
   "source": [
    "# plot the results\n",
    "r = range(len(depths));\n",
    "r_smooth = np.arange(len(depths)-2) + 1\n",
    "z = depths;\n",
    "z_smooth = dz_smooth / 3\n",
    "import matplotlib.pyplot as plt\n",
    "fig, ax = plt.subplots(1)\n",
    "ax.plot(r, z)\n",
    "ax.plot(r_smooth, z_smooth)\n",
    "ax.set_xlabel('range')\n",
    "ax.set_ylabel('depth')\n",
    "ax.invert_yaxis()\n",
    "plt.show()"
   ]
  }
 ],
 "metadata": {
  "kernelspec": {
   "display_name": "Python 3",
   "language": "python",
   "name": "python3"
  },
  "language_info": {
   "codemirror_mode": {
    "name": "ipython",
    "version": 3
   },
   "file_extension": ".py",
   "mimetype": "text/x-python",
   "name": "python",
   "nbconvert_exporter": "python",
   "pygments_lexer": "ipython3",
   "version": "3.6.2"
  }
 },
 "nbformat": 4,
 "nbformat_minor": 2
}
