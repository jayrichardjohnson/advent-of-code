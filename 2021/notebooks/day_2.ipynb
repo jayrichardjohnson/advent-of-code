{
 "cells": [
  {
   "cell_type": "code",
   "execution_count": 1,
   "metadata": {},
   "outputs": [],
   "source": [
    "## Advent of code 2021; day 2"
   ]
  },
  {
   "cell_type": "code",
   "execution_count": 2,
   "metadata": {},
   "outputs": [],
   "source": [
    "with open('data/day_2.txt') as f:\n",
    "    steps = f.read().splitlines()\n"
   ]
  },
  {
   "cell_type": "code",
   "execution_count": 7,
   "metadata": {},
   "outputs": [],
   "source": [
    "from pathlib import Path\n",
    "from typing import List\n",
    "stem: str = Path('day_2.ipynb').stem\n",
    "input_file = Path(\"data\") / (stem + \".txt\")\n",
    "input: List[str] = input_file.read_text().splitlines()\n"
   ]
  },
  {
   "cell_type": "code",
   "execution_count": 37,
   "metadata": {},
   "outputs": [
    {
     "name": "stdout",
     "output_type": "stream",
     "text": [
      "(1975, 800)\n",
      "1580000\n"
     ]
    }
   ],
   "source": [
    "r = (0,0)\n",
    "for line in input:\n",
    "    direction, step, *rest = line.split(\" \")\n",
    "    r = f(r, direction, step)\n",
    "print(r)\n",
    "print(r[0]*r[1])"
   ]
  },
  {
   "cell_type": "code",
   "execution_count": 40,
   "metadata": {},
   "outputs": [],
   "source": [
    "\n",
    "aim, z, x = 0, 0, 0\n",
    "\n",
    "for line in input:\n",
    "    direction, step, *rest = line.split(\" \")\n",
    "\n",
    "    if direction == 'up':\n",
    "        aim -= int(step)\n",
    "    elif direction == 'down':\n",
    "        aim += int(step)\n",
    "    elif direction == 'forward':\n",
    "        x += int(step)\n",
    "        z += int(step) * aim\n",
    "\n"
   ]
  },
  {
   "cell_type": "code",
   "execution_count": null,
   "metadata": {},
   "outputs": [],
   "source": [
    "def f(r, direction, step):\n",
    "    return {\n",
    "        'forward' : (r[0] + int(step), r[1]),\n",
    "        'up' : (r[0], r[1] - int(step)),\n",
    "        'down' : (r[0], r[1] + int(step))\n",
    "    }.get(direction, r)"
   ]
  }
 ],
 "metadata": {
  "kernelspec": {
   "display_name": "Python 3",
   "language": "python",
   "name": "python3"
  },
  "language_info": {
   "codemirror_mode": {
    "name": "ipython",
    "version": 3
   },
   "file_extension": ".py",
   "mimetype": "text/x-python",
   "name": "python",
   "nbconvert_exporter": "python",
   "pygments_lexer": "ipython3",
   "version": "3.6.2"
  }
 },
 "nbformat": 4,
 "nbformat_minor": 2
}
