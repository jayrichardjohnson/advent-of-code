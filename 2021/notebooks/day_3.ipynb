{
 "cells": [
  {
   "cell_type": "code",
   "execution_count": 246,
   "metadata": {},
   "outputs": [],
   "source": [
    "import numpy as np\n",
    "from scipy import stats\n",
    "\n",
    "with open('data/day_3.txt') as f:\n",
    "    steps = f.read().splitlines()\n",
    "    \n",
    "len_max = 0\n",
    "n_steps = len(steps)\n",
    "for line in steps:\n",
    "    len_max = max(len_max, len(line))\n",
    "\n",
    "X = np.zeros([n_steps, len_max], dtype=int)\n",
    "for ind_row in np.arange(n_steps):\n",
    "    line = steps[ind_row]\n",
    "    \n",
    "    for ind_col in np.arange(len(line)):\n",
    "        if line[ind_col] == '1':\n",
    "            X[ind_row, ind_col] = 1"
   ]
  },
  {
   "cell_type": "code",
   "execution_count": 247,
   "metadata": {},
   "outputs": [
    {
     "name": "stdout",
     "output_type": "stream",
     "text": [
      "gamma = [1 0 0 1 0 0 1 0 1 0 1 0], 2346\n",
      "epsilon = [0 1 1 0 1 1 0 1 0 1 0 1], 1749\n",
      "power = 4103154\n"
     ]
    }
   ],
   "source": [
    "# part one\n",
    "to_binary = lambda x : np.dot(x, np.flip(2**np.arange(x.size), 0))\n",
    "X_mode = stats.mode(X)\n",
    "gamma = X_mode[0][0]\n",
    "epsilon = 1 - gamma\n",
    "power = to_binary(gamma) * to_binary(epsilon)\n",
    "print(f\"gamma = {gamma}, {tobin(gamma)}\\nepsilon = {epsilon}, {tobin(epsilon)}\\npower = {power}\")"
   ]
  },
  {
   "cell_type": "markdown",
   "metadata": {},
   "source": [
    "# part two"
   ]
  },
  {
   "cell_type": "code",
   "execution_count": 257,
   "metadata": {},
   "outputs": [],
   "source": [
    "def mode_counter(X, mode='most'):\n",
    "    N = 0\n",
    "    Y = X.copy()\n",
    "    if mode == 'most':\n",
    "        default_g = 1\n",
    "    else:\n",
    "        default_g = 0\n",
    "        \n",
    "    while Y.shape[0] > 1:\n",
    "        test_array = Y[:, N]\n",
    "        y_mode, count = stats.mode(test_array)\n",
    "        count : int = count[0]\n",
    "        if count == len(test_array)/2:\n",
    "            g = default_g\n",
    "        else: \n",
    "            if mode == 'most':\n",
    "                g = y_mode[0] \n",
    "            else:\n",
    "                g = 1 - y_mode[0]\n",
    "                \n",
    "        idx = g == test_array\n",
    "        Y = Y[idx, :]\n",
    "        N = N + 1 \n",
    "    return Y.squeeze()"
   ]
  },
  {
   "cell_type": "code",
   "execution_count": 258,
   "metadata": {},
   "outputs": [
    {
     "name": "stdout",
     "output_type": "stream",
     "text": [
      "[1 1 0 1 0 1 0 0 0 1 1 1]\n",
      "oxy generation = 3399\n",
      "[0 1 0 0 1 1 1 0 0 0 0 1]\n",
      "CO2 = 1249\n"
     ]
    }
   ],
   "source": [
    "Y = mode_counter(X, mode='most')\n",
    "print(Y)\n",
    "oxy_gen: int = tobin(Y)\n",
    "print(f\"oxy generation = {oxy_gen}\")\n",
    "\n",
    "Y = mode_counter(X, mode='least')\n",
    "print(Y)\n",
    "co2: int = tobin(Y)\n",
    "print(f\"CO2 = {co2}\")\n"
   ]
  },
  {
   "cell_type": "code",
   "execution_count": 234,
   "metadata": {},
   "outputs": [
    {
     "name": "stdout",
     "output_type": "stream",
     "text": [
      "Life support rating = 4245351\n"
     ]
    }
   ],
   "source": [
    "print(f\"Life support rating = {oxy_gen * co2}\")"
   ]
  }
 ],
 "metadata": {
  "kernelspec": {
   "display_name": "Python 3 (ipykernel)",
   "language": "python",
   "name": "python3"
  },
  "language_info": {
   "codemirror_mode": {
    "name": "ipython",
    "version": 3
   },
   "file_extension": ".py",
   "mimetype": "text/x-python",
   "name": "python",
   "nbconvert_exporter": "python",
   "pygments_lexer": "ipython3",
   "version": "3.9.7"
  }
 },
 "nbformat": 4,
 "nbformat_minor": 4
}
