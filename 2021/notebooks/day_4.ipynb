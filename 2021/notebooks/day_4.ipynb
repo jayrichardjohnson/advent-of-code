{
 "cells": [
  {
   "cell_type": "markdown",
   "metadata": {},
   "source": [
    "## Day 4!"
   ]
  },
  {
   "cell_type": "code",
   "execution_count": 13,
   "metadata": {},
   "outputs": [],
   "source": [
    "import numpy as np\n",
    "with open('data/day_4.txt') as f:\n",
    "    lines = f.read().splitlines()"
   ]
  },
  {
   "cell_type": "code",
   "execution_count": 26,
   "metadata": {},
   "outputs": [],
   "source": [
    "# read in the bingo draws\n",
    "draws = [int(x) for x in lines[0].split(',')]"
   ]
  },
  {
   "cell_type": "code",
   "execution_count": 45,
   "metadata": {},
   "outputs": [],
   "source": [
    "# read in all the boards into an Nx5x5 numpy array\n",
    "\n",
    "Nboards = int((len(lines)-1)/6)\n",
    "boards = np.zeros([Nboards, 5, 5], dtype=int)\n",
    "\n",
    "new_board = False\n",
    "num_board = -1\n",
    "num_line = 0\n",
    "for line in lines[1:]:\n",
    "    if len(line) == 0:\n",
    "        new_board = True\n",
    "        num_board += 1\n",
    "        num_line = 0\n",
    "    else: \n",
    "        new_board = False\n",
    "    \n",
    "    if not new_board:\n",
    "        new_line = [int(x) for x in line.split()]\n",
    "        boards[num_board, num_line, :] = new_line\n",
    "        num_line += 1"
   ]
  },
  {
   "cell_type": "code",
   "execution_count": 184,
   "metadata": {},
   "outputs": [
    {
     "name": "stdout",
     "output_type": "stream",
     "text": [
      "Winning board 88\n",
      "\trow [4]\n",
      "[[[41  6 58 42 85]\n",
      "  [75 65 50  0  7]\n",
      "  [82 80 12  5 61]\n",
      "  [19 48 21 87 47]\n",
      "  [71 14 24  8 23]]]\n",
      "[71 14 24  8 23]\n"
     ]
    }
   ],
   "source": [
    "pull = 0\n",
    "pulled_numbers = []\n",
    "matched_numbers = np.zeros(boards.shape, dtype=bool)\n",
    "\n",
    "for sample in draws:\n",
    "    matched_numbers = np.logical_or(matched_numbers, boards == sample)\n",
    "    best_board, best_idx, best_dim = check_board(matched_numbers)\n",
    "    pull += 1\n",
    "    if best_board:\n",
    "        break\n",
    "winning_board = boards[best_board,:,:].squeeze()\n",
    "if best_dim == 'row':\n",
    "    winning_line = winning_board[best_idx[0],:]\n",
    "else:\n",
    "    winning_line = winning_board[:, best_idx[0]]\n",
    "print(f\"Winning board {best_board[0]}\\n\\t{best_dim} {best_idx}\")\n",
    "print(boards[best_board,:,:])\n",
    "print(winning_line)"
   ]
  },
  {
   "cell_type": "code",
   "execution_count": 186,
   "metadata": {},
   "outputs": [
    {
     "name": "stdout",
     "output_type": "stream",
     "text": [
      "score = 10374\n"
     ]
    }
   ],
   "source": [
    "print(f\"score = {(boards[best_board,:,:] * ~matched_numbers[best_board,:,:]).sum() * sample}\")"
   ]
  },
  {
   "cell_type": "code",
   "execution_count": 187,
   "metadata": {},
   "outputs": [],
   "source": [
    "time_to_win = np.zeros((Nboards,))\n",
    "winning_boards = np.zeros((Nboards, 5,5))\n",
    "for iboard in range(Nboards):\n",
    "    board = boards[iboard,:,:].squeeze()\n",
    "    pull = 0\n",
    "    matched_numbers = np.zeros(board.shape, dtype=bool)\n",
    "    winner = False\n",
    "    for sample in draws:\n",
    "        if not winner:\n",
    "            matched_numbers = np.logical_or(matched_numbers, board == sample)\n",
    "            if np.any(matched_numbers.sum(axis=0) == 5) or np.any(matched_numbers.sum(axis=1) == 5):             \n",
    "                time_to_win[iboard] = pull\n",
    "                winner = True\n",
    "                winning_boards[iboard,:,:] = matched_numbers\n",
    "            pull += 1"
   ]
  },
  {
   "cell_type": "code",
   "execution_count": 188,
   "metadata": {},
   "outputs": [
    {
     "name": "stdout",
     "output_type": "stream",
     "text": [
      "score = 24742.0\n"
     ]
    }
   ],
   "source": [
    "last_winner = time_to_win.argmax()\n",
    "print(f\"score = {(boards[last_winner] * (1-winning_boards[last_winner])).sum() * draws[int(time_to_win.max())]}\")"
   ]
  },
  {
   "cell_type": "code",
   "execution_count": 109,
   "metadata": {},
   "outputs": [],
   "source": [
    "def check_board(matched_numbers):\n",
    "    best_board : int = False\n",
    "    best_idx: int = False\n",
    "    best_dim : str = 'none'\n",
    "    if np.any(matched_numbers.sum(axis=1) == 5):\n",
    "        winner = True\n",
    "        best_dim = 'column'\n",
    "        (best_board, best_idx) = np.where(matched_numbers.sum(axis=1) == 5)\n",
    "    elif np.any(matched_numbers.sum(axis=2) == 5):\n",
    "        winner = True\n",
    "        best_dim = 'row'\n",
    "        (best_board, best_idx) = np.where(matched_numbers.sum(axis=2) == 5)\n",
    "        \n",
    "    return best_board, best_idx, best_dim"
   ]
  }
 ],
 "metadata": {
  "kernelspec": {
   "display_name": "Python 3 (ipykernel)",
   "language": "python",
   "name": "python3"
  },
  "language_info": {
   "codemirror_mode": {
    "name": "ipython",
    "version": 3
   },
   "file_extension": ".py",
   "mimetype": "text/x-python",
   "name": "python",
   "nbconvert_exporter": "python",
   "pygments_lexer": "ipython3",
   "version": "3.9.7"
  }
 },
 "nbformat": 4,
 "nbformat_minor": 4
}
