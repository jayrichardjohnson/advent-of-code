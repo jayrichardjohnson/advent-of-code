{
 "cells": [
  {
   "cell_type": "code",
   "execution_count": 1,
   "metadata": {},
   "outputs": [],
   "source": [
    "# Day 5 trial and error"
   ]
  },
  {
   "cell_type": "code",
   "execution_count": 177,
   "metadata": {},
   "outputs": [],
   "source": [
    "import numpy as np\n",
    "with open('../data/day_5.txt') as f:\n",
    "    lines = f.read().splitlines()"
   ]
  },
  {
   "cell_type": "code",
   "execution_count": 97,
   "metadata": {},
   "outputs": [],
   "source": [
    "starts = np.zeros((len(lines), 2), dtype=int)\n",
    "ends = np.zeros((len(lines), 2), dtype=int)\n",
    "for idx, line in enumerate(lines):\n",
    "    points = [int(x) for x in re.split(',| -> ', line)]\n",
    "    if points[0] == points[2] or points[1] == points[3]:\n",
    "        starts[idx] = points[0:2]\n",
    "        ends[idx] = points[2:]\n",
    "    else:\n",
    "        starts[idx] = -1\n",
    "        ends[idx] = -1\n",
    "        \n",
    "starts = starts[starts[:,0] > 0, :]\n",
    "ends = ends[ends[:,0] > 0, :]\n",
    "\n",
    "max_grid = max((starts.max(), ends.max()))\n",
    "grid = np.zeros((max_grid+1, max_grid+1))"
   ]
  },
  {
   "cell_type": "code",
   "execution_count": 149,
   "metadata": {},
   "outputs": [],
   "source": [
    "for _idx, _ in enumerate(starts):\n",
    "\n",
    "    x0,y0 = starts[_idx]\n",
    "    x1,y1 = ends[_idx]\n",
    "    if x0 <= x1:\n",
    "        x = np.arange(x0, x1+1)\n",
    "    else:\n",
    "        x = np.arange(x1, x0+1)\n",
    "    if y0 <= y1:\n",
    "        y = np.arange(y0, y1+1)\n",
    "    else:\n",
    "        y = np.arange(y1, y0+1)      \n",
    "    \n",
    "    [xx, yy] = np.meshgrid(x, y)\n",
    "    xx = xx.squeeze().astype(int)\n",
    "    yy = yy.squeeze().astype(int)\n",
    "    grid[xx, yy] += 1\n",
    "    \n",
    "    \n",
    "# print(f'({x0}, {y0}) ({x1}, {y1})')"
   ]
  },
  {
   "cell_type": "code",
   "execution_count": 152,
   "metadata": {},
   "outputs": [
    {
     "data": {
      "text/plain": [
       "5442"
      ]
     },
     "execution_count": 152,
     "metadata": {},
     "output_type": "execute_result"
    }
   ],
   "source": [
    "(grid > 1).sum()"
   ]
  },
  {
   "cell_type": "markdown",
   "metadata": {},
   "source": [
    "## Part 2"
   ]
  },
  {
   "cell_type": "code",
   "execution_count": 216,
   "metadata": {},
   "outputs": [],
   "source": [
    "starts = np.zeros((len(lines), 2), dtype=int)\n",
    "ends = np.zeros((len(lines), 2), dtype=int)\n",
    "for idx, line in enumerate(lines):\n",
    "    points = [int(x) for x in re.split(',| -> ', line)]\n",
    "    starts[idx] = points[0:2]\n",
    "    ends[idx] = points[2:]\n",
    "\n",
    "max_grid = max((starts.max(), ends.max()))\n",
    "grid = np.zeros((max_grid+1, max_grid+1))"
   ]
  },
  {
   "cell_type": "code",
   "execution_count": 217,
   "metadata": {},
   "outputs": [],
   "source": [
    "for _idx, _ in enumerate(starts):\n",
    "\n",
    "    x0,y0 = starts[_idx]\n",
    "    x1,y1 = ends[_idx]\n",
    "\n",
    "\n",
    "# x0, y0 = 1,1\n",
    "# x1, y1 = 3,3\n",
    "\n",
    "    if x0 <= x1:\n",
    "        x = np.arange(x0, x1+1)\n",
    "    else:\n",
    "        x = np.flip(np.arange(x1, x0+1), axis=0)\n",
    "    if y0 <= y1:\n",
    "        y = np.arange(y0, y1+1)\n",
    "    else:\n",
    "        y = np.flip(np.arange(y1, y0+1), axis=0)\n",
    "\n",
    "    if x.size > 1 and y.size > 1:\n",
    "        xx, yy = x, y\n",
    "    else:\n",
    "        [xx, yy] = np.meshgrid(x, y)\n",
    "        xx = xx.squeeze().astype(int)\n",
    "        yy = yy.squeeze().astype(int)\n",
    "\n",
    "    grid[xx,yy] += 1"
   ]
  },
  {
   "cell_type": "code",
   "execution_count": 218,
   "metadata": {},
   "outputs": [
    {
     "data": {
      "text/plain": [
       "19571"
      ]
     },
     "execution_count": 218,
     "metadata": {},
     "output_type": "execute_result"
    }
   ],
   "source": [
    "(grid > 1).sum()"
   ]
  }
 ],
 "metadata": {
  "kernelspec": {
   "display_name": "Python 3",
   "language": "python",
   "name": "python3"
  },
  "language_info": {
   "codemirror_mode": {
    "name": "ipython",
    "version": 3
   },
   "file_extension": ".py",
   "mimetype": "text/x-python",
   "name": "python",
   "nbconvert_exporter": "python",
   "pygments_lexer": "ipython3",
   "version": "3.6.2"
  }
 },
 "nbformat": 4,
 "nbformat_minor": 2
}
