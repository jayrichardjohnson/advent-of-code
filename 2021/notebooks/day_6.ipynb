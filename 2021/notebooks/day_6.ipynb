{
 "cells": [
  {
   "cell_type": "code",
   "execution_count": 158,
   "metadata": {},
   "outputs": [],
   "source": [
    "with open('../data/day_6.txt') as f:\n",
    "    lines = f.read().splitlines()\n",
    "    \n",
    "timers = [int(x) for x in lines[0].split(',')]"
   ]
  },
  {
   "cell_type": "code",
   "execution_count": 160,
   "metadata": {},
   "outputs": [],
   "source": [
    "def count_lanterns(initial_state, days, max_timer=8, reset_value=6):\n",
    "    states : int = initial_state.copy()\n",
    "    assert(max_timer >= reset_value)\n",
    "    \n",
    "    state_counts = countX(states)\n",
    "    \n",
    "    for day in range(days):\n",
    "        n_lanterns_added = state_counts[0]\n",
    "        state_counts.append(state_counts.pop(0))\n",
    "        state_counts[reset_value] += n_lanterns_added\n",
    "    \n",
    "    return sum(state_counts)\n",
    "\n",
    "def countX(lst, max_t=8):\n",
    "    return [lst.count(x) for x in range(max_t+1)]"
   ]
  },
  {
   "cell_type": "code",
   "execution_count": 164,
   "metadata": {},
   "outputs": [],
   "source": [
    "assert(count_lanterns([3,4,3,1,2], 80) == 5934)"
   ]
  },
  {
   "cell_type": "code",
   "execution_count": 165,
   "metadata": {},
   "outputs": [
    {
     "name": "stdout",
     "output_type": "stream",
     "text": [
      "After 80 days: 346063\n",
      "After 256 days: 1572358335990\n"
     ]
    }
   ],
   "source": [
    "print(f'After 80 days: {count_lanterns(timers, 80)}')\n",
    "print(f'After 256 days: {count_lanterns(timers, 256)}')"
   ]
  }
 ],
 "metadata": {
  "kernelspec": {
   "display_name": "Python 3",
   "language": "python",
   "name": "python3"
  },
  "language_info": {
   "codemirror_mode": {
    "name": "ipython",
    "version": 3
   },
   "file_extension": ".py",
   "mimetype": "text/x-python",
   "name": "python",
   "nbconvert_exporter": "python",
   "pygments_lexer": "ipython3",
   "version": "3.6.2"
  }
 },
 "nbformat": 4,
 "nbformat_minor": 2
}
